{
  "cells": [
    {
      "metadata": {
        "_uuid": "fe6de28443d73e5a661b04d1f44d36c64a02617e",
        "id": "kpNq8RSCxsog"
      },
      "cell_type": "markdown",
      "source": [
        "##  Bank Marketing\n",
        "\n",
        "**Data Set Information:**\n",
        "The data is related with direct marketing campaigns of a Portuguese banking institution. The marketing campaigns were based on phone calls. Often, more than one contact to the same client was required, in order to access if the product (bank term deposit) would be ('yes') or not ('no') subscribed. \n",
        "\n",
        "###  Attribute Information:\n",
        "\n",
        "####  Bank client data:\n",
        "\n",
        " - Age (numeric)\n",
        " - Job : type of job (categorical: 'admin.', 'blue-collar', 'entrepreneur', 'housemaid', 'management', 'retired', 'self-employed', 'services', 'student', 'technician', 'unemployed', 'unknown')\n",
        " - Marital : marital status (categorical: 'divorced', 'married', 'single', 'unknown' ; note: 'divorced' means divorced or widowed)\n",
        " - Education (categorical: 'basic.4y', 'basic.6y', 'basic.9y', 'high.school',  'illiterate', 'professional.course', 'university.degree', 'unknown')\n",
        " - Default: has credit in default? (categorical: 'no', 'yes', 'unknown')\n",
        " - Housing: has housing loan? (categorical: 'no', 'yes', 'unknown')\n",
        " - Loan: has personal loan? (categorical: 'no', 'yes', 'unknown')\n",
        "\n",
        "    \n",
        "####  Related with the last contact of the current campaign:\n",
        "\n",
        " - Contact: contact communication type (categorical:\n",
        "   'cellular','telephone')\n",
        " - Month: last contact month of year (categorical: 'jan', 'feb', 'mar',\n",
        "   ..., 'nov', 'dec')\n",
        " - Day_of_week: last contact day of the week (categorical:\n",
        "   'mon','tue','wed','thu','fri')\n",
        " - Duration: last contact duration, in seconds (numeric). Important\n",
        "   note: this attribute highly affects the output target (e.g., if\n",
        "   duration=0 then y='no'). Yet, the duration is not known before a call\n",
        "   is performed. Also, after the end of the call y is obviously known.\n",
        "   Thus, this input should only be included for benchmark purposes and\n",
        "   should be discarded if the intention is to have a realistic\n",
        "   predictive model.\n",
        "\n",
        "    \n",
        "####  Other attributes:\n",
        "\n",
        " - Campaign: number of contacts performed during this campaign and for\n",
        "   this client (numeric, includes last contact)\n",
        " - Pdays: number of days that passed by after the client was last\n",
        "   contacted from a previous campaign (numeric; 999 means client was not\n",
        "   previously contacted)\n",
        " - Previous: number of contacts performed before this campaign and for\n",
        "   this client (numeric)\n",
        " - Poutcome: outcome of the previous marketing campaign (categorical:\n",
        "   'failure','nonexistent','success')\n",
        "\n",
        "    \n",
        "####  Social and economic context attributes\n",
        " - Emp.var.rate: employment variation rate - quarterly indicator\n",
        "   (numeric)\n",
        " - Cons.price.idx: consumer price index - monthly indicator (numeric)\n",
        " - Cons.conf.idx: consumer confidence index - monthly indicator\n",
        "   (numeric)\n",
        " - Euribor3m: euribor 3 month rate - daily indicator (numeric)\n",
        " - Nr.employed: number of employees - quarterly indicator (numeric)\n",
        "\n",
        "####  Output variable (desired target):\n",
        "\n",
        " - y - has the client subscribed a term deposit? (binary: 'yes', 'no')\n",
        "\n",
        "### Source : https://archive.ics.uci.edu/ml/datasets/bank+marketing"
      ]
    },
    {
      "metadata": {
        "trusted": true,
        "_uuid": "372130a7748d97a42267ae256ffd4378711bec05",
        "id": "m4zNWZnKxsqD"
      },
      "cell_type": "code",
      "source": [
        "# Importing Data Analysis Librarys\n",
        "import numpy as np\n",
        "import pandas as pd\n",
        "import matplotlib.pyplot as plt\n",
        "import seaborn as sns\n",
        "%matplotlib inline\n",
        "import warnings\n",
        "warnings.filterwarnings('ignore')"
      ],
      "execution_count": 7,
      "outputs": []
    },
    {
      "cell_type": "code",
      "source": [
        "from google.colab import drive\n",
        "drive.mount('/content/drive')"
      ],
      "metadata": {
        "colab": {
          "base_uri": "https://localhost:8080/"
        },
        "id": "vGBym4_EzU0r",
        "outputId": "21442332-80d1-4cd5-e3d4-0102355f74c6"
      },
      "execution_count": 8,
      "outputs": [
        {
          "output_type": "stream",
          "name": "stdout",
          "text": [
            "Drive already mounted at /content/drive; to attempt to forcibly remount, call drive.mount(\"/content/drive\", force_remount=True).\n"
          ]
        }
      ]
    },
    {
      "cell_type": "code",
      "source": [
        "bank = pd.read_csv('/content/bank-additional-full.csv', sep = ',')\n",
        "bank.head()"
      ],
      "metadata": {
        "colab": {
          "base_uri": "https://localhost:8080/",
          "height": 386
        },
        "id": "Eo5nzr9czcfm",
        "outputId": "3bea0b03-b66d-4fca-a002-a61f0a568d87"
      },
      "execution_count": 9,
      "outputs": [
        {
          "output_type": "execute_result",
          "data": {
            "text/plain": [
              "   id        date  age        job  marital    education  default housing loan  \\\n",
              "0   1  2022-10-01   56  housemaid  married     basic.4y       no      no   no   \n",
              "1   2  2022-10-01   57   services  married  high.school  unknown      no   no   \n",
              "2   3  2022-10-01   37   services  married  high.school       no     yes   no   \n",
              "3   4  2022-10-01   40     admin.  married     basic.6y       no      no   no   \n",
              "4   5  2022-10-01   56   services  married  high.school       no      no  yes   \n",
              "\n",
              "     contact  ... campaign pdays  previous     poutcome  emp.var.rate  \\\n",
              "0  telephone  ...        1   999         0  nonexistent           1.1   \n",
              "1  telephone  ...        1   999         0  nonexistent           1.1   \n",
              "2  telephone  ...        1   999         0  nonexistent           1.1   \n",
              "3  telephone  ...        1   999         0  nonexistent           1.1   \n",
              "4  telephone  ...        1   999         0  nonexistent           1.1   \n",
              "\n",
              "   cons.price.idx cons.conf.idx  euribor3m nr.employed   y  \n",
              "0          93 994         -36.4      4 857      5191.0  no  \n",
              "1          93 994         -36.4      4 857      5191.0  no  \n",
              "2          93 994         -36.4      4 857      5191.0  no  \n",
              "3          93 994         -36.4      4 857      5191.0  no  \n",
              "4          93 994         -36.4      4 857      5191.0  no  \n",
              "\n",
              "[5 rows x 23 columns]"
            ],
            "text/html": [
              "\n",
              "  <div id=\"df-9f0d963b-6674-4381-89fe-60be7d188e51\">\n",
              "    <div class=\"colab-df-container\">\n",
              "      <div>\n",
              "<style scoped>\n",
              "    .dataframe tbody tr th:only-of-type {\n",
              "        vertical-align: middle;\n",
              "    }\n",
              "\n",
              "    .dataframe tbody tr th {\n",
              "        vertical-align: top;\n",
              "    }\n",
              "\n",
              "    .dataframe thead th {\n",
              "        text-align: right;\n",
              "    }\n",
              "</style>\n",
              "<table border=\"1\" class=\"dataframe\">\n",
              "  <thead>\n",
              "    <tr style=\"text-align: right;\">\n",
              "      <th></th>\n",
              "      <th>id</th>\n",
              "      <th>date</th>\n",
              "      <th>age</th>\n",
              "      <th>job</th>\n",
              "      <th>marital</th>\n",
              "      <th>education</th>\n",
              "      <th>default</th>\n",
              "      <th>housing</th>\n",
              "      <th>loan</th>\n",
              "      <th>contact</th>\n",
              "      <th>...</th>\n",
              "      <th>campaign</th>\n",
              "      <th>pdays</th>\n",
              "      <th>previous</th>\n",
              "      <th>poutcome</th>\n",
              "      <th>emp.var.rate</th>\n",
              "      <th>cons.price.idx</th>\n",
              "      <th>cons.conf.idx</th>\n",
              "      <th>euribor3m</th>\n",
              "      <th>nr.employed</th>\n",
              "      <th>y</th>\n",
              "    </tr>\n",
              "  </thead>\n",
              "  <tbody>\n",
              "    <tr>\n",
              "      <th>0</th>\n",
              "      <td>1</td>\n",
              "      <td>2022-10-01</td>\n",
              "      <td>56</td>\n",
              "      <td>housemaid</td>\n",
              "      <td>married</td>\n",
              "      <td>basic.4y</td>\n",
              "      <td>no</td>\n",
              "      <td>no</td>\n",
              "      <td>no</td>\n",
              "      <td>telephone</td>\n",
              "      <td>...</td>\n",
              "      <td>1</td>\n",
              "      <td>999</td>\n",
              "      <td>0</td>\n",
              "      <td>nonexistent</td>\n",
              "      <td>1.1</td>\n",
              "      <td>93 994</td>\n",
              "      <td>-36.4</td>\n",
              "      <td>4 857</td>\n",
              "      <td>5191.0</td>\n",
              "      <td>no</td>\n",
              "    </tr>\n",
              "    <tr>\n",
              "      <th>1</th>\n",
              "      <td>2</td>\n",
              "      <td>2022-10-01</td>\n",
              "      <td>57</td>\n",
              "      <td>services</td>\n",
              "      <td>married</td>\n",
              "      <td>high.school</td>\n",
              "      <td>unknown</td>\n",
              "      <td>no</td>\n",
              "      <td>no</td>\n",
              "      <td>telephone</td>\n",
              "      <td>...</td>\n",
              "      <td>1</td>\n",
              "      <td>999</td>\n",
              "      <td>0</td>\n",
              "      <td>nonexistent</td>\n",
              "      <td>1.1</td>\n",
              "      <td>93 994</td>\n",
              "      <td>-36.4</td>\n",
              "      <td>4 857</td>\n",
              "      <td>5191.0</td>\n",
              "      <td>no</td>\n",
              "    </tr>\n",
              "    <tr>\n",
              "      <th>2</th>\n",
              "      <td>3</td>\n",
              "      <td>2022-10-01</td>\n",
              "      <td>37</td>\n",
              "      <td>services</td>\n",
              "      <td>married</td>\n",
              "      <td>high.school</td>\n",
              "      <td>no</td>\n",
              "      <td>yes</td>\n",
              "      <td>no</td>\n",
              "      <td>telephone</td>\n",
              "      <td>...</td>\n",
              "      <td>1</td>\n",
              "      <td>999</td>\n",
              "      <td>0</td>\n",
              "      <td>nonexistent</td>\n",
              "      <td>1.1</td>\n",
              "      <td>93 994</td>\n",
              "      <td>-36.4</td>\n",
              "      <td>4 857</td>\n",
              "      <td>5191.0</td>\n",
              "      <td>no</td>\n",
              "    </tr>\n",
              "    <tr>\n",
              "      <th>3</th>\n",
              "      <td>4</td>\n",
              "      <td>2022-10-01</td>\n",
              "      <td>40</td>\n",
              "      <td>admin.</td>\n",
              "      <td>married</td>\n",
              "      <td>basic.6y</td>\n",
              "      <td>no</td>\n",
              "      <td>no</td>\n",
              "      <td>no</td>\n",
              "      <td>telephone</td>\n",
              "      <td>...</td>\n",
              "      <td>1</td>\n",
              "      <td>999</td>\n",
              "      <td>0</td>\n",
              "      <td>nonexistent</td>\n",
              "      <td>1.1</td>\n",
              "      <td>93 994</td>\n",
              "      <td>-36.4</td>\n",
              "      <td>4 857</td>\n",
              "      <td>5191.0</td>\n",
              "      <td>no</td>\n",
              "    </tr>\n",
              "    <tr>\n",
              "      <th>4</th>\n",
              "      <td>5</td>\n",
              "      <td>2022-10-01</td>\n",
              "      <td>56</td>\n",
              "      <td>services</td>\n",
              "      <td>married</td>\n",
              "      <td>high.school</td>\n",
              "      <td>no</td>\n",
              "      <td>no</td>\n",
              "      <td>yes</td>\n",
              "      <td>telephone</td>\n",
              "      <td>...</td>\n",
              "      <td>1</td>\n",
              "      <td>999</td>\n",
              "      <td>0</td>\n",
              "      <td>nonexistent</td>\n",
              "      <td>1.1</td>\n",
              "      <td>93 994</td>\n",
              "      <td>-36.4</td>\n",
              "      <td>4 857</td>\n",
              "      <td>5191.0</td>\n",
              "      <td>no</td>\n",
              "    </tr>\n",
              "  </tbody>\n",
              "</table>\n",
              "<p>5 rows × 23 columns</p>\n",
              "</div>\n",
              "      <button class=\"colab-df-convert\" onclick=\"convertToInteractive('df-9f0d963b-6674-4381-89fe-60be7d188e51')\"\n",
              "              title=\"Convert this dataframe to an interactive table.\"\n",
              "              style=\"display:none;\">\n",
              "        \n",
              "  <svg xmlns=\"http://www.w3.org/2000/svg\" height=\"24px\"viewBox=\"0 0 24 24\"\n",
              "       width=\"24px\">\n",
              "    <path d=\"M0 0h24v24H0V0z\" fill=\"none\"/>\n",
              "    <path d=\"M18.56 5.44l.94 2.06.94-2.06 2.06-.94-2.06-.94-.94-2.06-.94 2.06-2.06.94zm-11 1L8.5 8.5l.94-2.06 2.06-.94-2.06-.94L8.5 2.5l-.94 2.06-2.06.94zm10 10l.94 2.06.94-2.06 2.06-.94-2.06-.94-.94-2.06-.94 2.06-2.06.94z\"/><path d=\"M17.41 7.96l-1.37-1.37c-.4-.4-.92-.59-1.43-.59-.52 0-1.04.2-1.43.59L10.3 9.45l-7.72 7.72c-.78.78-.78 2.05 0 2.83L4 21.41c.39.39.9.59 1.41.59.51 0 1.02-.2 1.41-.59l7.78-7.78 2.81-2.81c.8-.78.8-2.07 0-2.86zM5.41 20L4 18.59l7.72-7.72 1.47 1.35L5.41 20z\"/>\n",
              "  </svg>\n",
              "      </button>\n",
              "      \n",
              "  <style>\n",
              "    .colab-df-container {\n",
              "      display:flex;\n",
              "      flex-wrap:wrap;\n",
              "      gap: 12px;\n",
              "    }\n",
              "\n",
              "    .colab-df-convert {\n",
              "      background-color: #E8F0FE;\n",
              "      border: none;\n",
              "      border-radius: 50%;\n",
              "      cursor: pointer;\n",
              "      display: none;\n",
              "      fill: #1967D2;\n",
              "      height: 32px;\n",
              "      padding: 0 0 0 0;\n",
              "      width: 32px;\n",
              "    }\n",
              "\n",
              "    .colab-df-convert:hover {\n",
              "      background-color: #E2EBFA;\n",
              "      box-shadow: 0px 1px 2px rgba(60, 64, 67, 0.3), 0px 1px 3px 1px rgba(60, 64, 67, 0.15);\n",
              "      fill: #174EA6;\n",
              "    }\n",
              "\n",
              "    [theme=dark] .colab-df-convert {\n",
              "      background-color: #3B4455;\n",
              "      fill: #D2E3FC;\n",
              "    }\n",
              "\n",
              "    [theme=dark] .colab-df-convert:hover {\n",
              "      background-color: #434B5C;\n",
              "      box-shadow: 0px 1px 3px 1px rgba(0, 0, 0, 0.15);\n",
              "      filter: drop-shadow(0px 1px 2px rgba(0, 0, 0, 0.3));\n",
              "      fill: #FFFFFF;\n",
              "    }\n",
              "  </style>\n",
              "\n",
              "      <script>\n",
              "        const buttonEl =\n",
              "          document.querySelector('#df-9f0d963b-6674-4381-89fe-60be7d188e51 button.colab-df-convert');\n",
              "        buttonEl.style.display =\n",
              "          google.colab.kernel.accessAllowed ? 'block' : 'none';\n",
              "\n",
              "        async function convertToInteractive(key) {\n",
              "          const element = document.querySelector('#df-9f0d963b-6674-4381-89fe-60be7d188e51');\n",
              "          const dataTable =\n",
              "            await google.colab.kernel.invokeFunction('convertToInteractive',\n",
              "                                                     [key], {});\n",
              "          if (!dataTable) return;\n",
              "\n",
              "          const docLinkHtml = 'Like what you see? Visit the ' +\n",
              "            '<a target=\"_blank\" href=https://colab.research.google.com/notebooks/data_table.ipynb>data table notebook</a>'\n",
              "            + ' to learn more about interactive tables.';\n",
              "          element.innerHTML = '';\n",
              "          dataTable['output_type'] = 'display_data';\n",
              "          await google.colab.output.renderOutput(dataTable, element);\n",
              "          const docLink = document.createElement('div');\n",
              "          docLink.innerHTML = docLinkHtml;\n",
              "          element.appendChild(docLink);\n",
              "        }\n",
              "      </script>\n",
              "    </div>\n",
              "  </div>\n",
              "  "
            ]
          },
          "metadata": {},
          "execution_count": 9
        }
      ]
    },
    {
      "metadata": {
        "trusted": true,
        "_uuid": "6c94a0ee7836e2f33cc5df32a1d771bffe3fc8d6",
        "colab": {
          "base_uri": "https://localhost:8080/"
        },
        "id": "9rXNm-CcxsqY",
        "outputId": "824a2cbd-5af5-4d0d-d315-11a9be1842bd"
      },
      "cell_type": "code",
      "source": [
        "bank.info()"
      ],
      "execution_count": 10,
      "outputs": [
        {
          "output_type": "stream",
          "name": "stdout",
          "text": [
            "<class 'pandas.core.frame.DataFrame'>\n",
            "RangeIndex: 41188 entries, 0 to 41187\n",
            "Data columns (total 23 columns):\n",
            " #   Column          Non-Null Count  Dtype  \n",
            "---  ------          --------------  -----  \n",
            " 0   id              41188 non-null  int64  \n",
            " 1   date            41188 non-null  object \n",
            " 2   age             41188 non-null  int64  \n",
            " 3   job             41188 non-null  object \n",
            " 4   marital         41188 non-null  object \n",
            " 5   education       41188 non-null  object \n",
            " 6   default         41188 non-null  object \n",
            " 7   housing         41188 non-null  object \n",
            " 8   loan            41188 non-null  object \n",
            " 9   contact         41188 non-null  object \n",
            " 10  month           41188 non-null  object \n",
            " 11  day_of_week     41188 non-null  object \n",
            " 12  duration        41188 non-null  int64  \n",
            " 13  campaign        41188 non-null  int64  \n",
            " 14  pdays           41188 non-null  int64  \n",
            " 15  previous        41188 non-null  int64  \n",
            " 16  poutcome        41188 non-null  object \n",
            " 17  emp.var.rate    41188 non-null  float64\n",
            " 18  cons.price.idx  41188 non-null  object \n",
            " 19  cons.conf.idx   41188 non-null  float64\n",
            " 20  euribor3m       41188 non-null  object \n",
            " 21  nr.employed     41188 non-null  float64\n",
            " 22  y               41188 non-null  object \n",
            "dtypes: float64(3), int64(6), object(14)\n",
            "memory usage: 7.2+ MB\n"
          ]
        }
      ]
    },
    {
      "metadata": {
        "_uuid": "2a375f9daaae42e0e6e35a6c65ccd21d54e886d5",
        "id": "rY2s233Txsqe"
      },
      "cell_type": "markdown",
      "source": [
        "# 1. Bank client data"
      ]
    },
    {
      "metadata": {
        "trusted": true,
        "_uuid": "953240257b8c019801b3869d3b68b839c31aa333",
        "colab": {
          "base_uri": "https://localhost:8080/",
          "height": 206
        },
        "id": "o6uf_wWCxsqg",
        "outputId": "e59e4f23-53ff-4d11-8c73-f5eb9465041b"
      },
      "cell_type": "code",
      "source": [
        "bank_client = bank.iloc[: , 2:9]\n",
        "bank_client.head()"
      ],
      "execution_count": 11,
      "outputs": [
        {
          "output_type": "execute_result",
          "data": {
            "text/plain": [
              "   age        job  marital    education  default housing loan\n",
              "0   56  housemaid  married     basic.4y       no      no   no\n",
              "1   57   services  married  high.school  unknown      no   no\n",
              "2   37   services  married  high.school       no     yes   no\n",
              "3   40     admin.  married     basic.6y       no      no   no\n",
              "4   56   services  married  high.school       no      no  yes"
            ],
            "text/html": [
              "\n",
              "  <div id=\"df-743c17f9-9fad-45b6-8b91-716f2be19860\">\n",
              "    <div class=\"colab-df-container\">\n",
              "      <div>\n",
              "<style scoped>\n",
              "    .dataframe tbody tr th:only-of-type {\n",
              "        vertical-align: middle;\n",
              "    }\n",
              "\n",
              "    .dataframe tbody tr th {\n",
              "        vertical-align: top;\n",
              "    }\n",
              "\n",
              "    .dataframe thead th {\n",
              "        text-align: right;\n",
              "    }\n",
              "</style>\n",
              "<table border=\"1\" class=\"dataframe\">\n",
              "  <thead>\n",
              "    <tr style=\"text-align: right;\">\n",
              "      <th></th>\n",
              "      <th>age</th>\n",
              "      <th>job</th>\n",
              "      <th>marital</th>\n",
              "      <th>education</th>\n",
              "      <th>default</th>\n",
              "      <th>housing</th>\n",
              "      <th>loan</th>\n",
              "    </tr>\n",
              "  </thead>\n",
              "  <tbody>\n",
              "    <tr>\n",
              "      <th>0</th>\n",
              "      <td>56</td>\n",
              "      <td>housemaid</td>\n",
              "      <td>married</td>\n",
              "      <td>basic.4y</td>\n",
              "      <td>no</td>\n",
              "      <td>no</td>\n",
              "      <td>no</td>\n",
              "    </tr>\n",
              "    <tr>\n",
              "      <th>1</th>\n",
              "      <td>57</td>\n",
              "      <td>services</td>\n",
              "      <td>married</td>\n",
              "      <td>high.school</td>\n",
              "      <td>unknown</td>\n",
              "      <td>no</td>\n",
              "      <td>no</td>\n",
              "    </tr>\n",
              "    <tr>\n",
              "      <th>2</th>\n",
              "      <td>37</td>\n",
              "      <td>services</td>\n",
              "      <td>married</td>\n",
              "      <td>high.school</td>\n",
              "      <td>no</td>\n",
              "      <td>yes</td>\n",
              "      <td>no</td>\n",
              "    </tr>\n",
              "    <tr>\n",
              "      <th>3</th>\n",
              "      <td>40</td>\n",
              "      <td>admin.</td>\n",
              "      <td>married</td>\n",
              "      <td>basic.6y</td>\n",
              "      <td>no</td>\n",
              "      <td>no</td>\n",
              "      <td>no</td>\n",
              "    </tr>\n",
              "    <tr>\n",
              "      <th>4</th>\n",
              "      <td>56</td>\n",
              "      <td>services</td>\n",
              "      <td>married</td>\n",
              "      <td>high.school</td>\n",
              "      <td>no</td>\n",
              "      <td>no</td>\n",
              "      <td>yes</td>\n",
              "    </tr>\n",
              "  </tbody>\n",
              "</table>\n",
              "</div>\n",
              "      <button class=\"colab-df-convert\" onclick=\"convertToInteractive('df-743c17f9-9fad-45b6-8b91-716f2be19860')\"\n",
              "              title=\"Convert this dataframe to an interactive table.\"\n",
              "              style=\"display:none;\">\n",
              "        \n",
              "  <svg xmlns=\"http://www.w3.org/2000/svg\" height=\"24px\"viewBox=\"0 0 24 24\"\n",
              "       width=\"24px\">\n",
              "    <path d=\"M0 0h24v24H0V0z\" fill=\"none\"/>\n",
              "    <path d=\"M18.56 5.44l.94 2.06.94-2.06 2.06-.94-2.06-.94-.94-2.06-.94 2.06-2.06.94zm-11 1L8.5 8.5l.94-2.06 2.06-.94-2.06-.94L8.5 2.5l-.94 2.06-2.06.94zm10 10l.94 2.06.94-2.06 2.06-.94-2.06-.94-.94-2.06-.94 2.06-2.06.94z\"/><path d=\"M17.41 7.96l-1.37-1.37c-.4-.4-.92-.59-1.43-.59-.52 0-1.04.2-1.43.59L10.3 9.45l-7.72 7.72c-.78.78-.78 2.05 0 2.83L4 21.41c.39.39.9.59 1.41.59.51 0 1.02-.2 1.41-.59l7.78-7.78 2.81-2.81c.8-.78.8-2.07 0-2.86zM5.41 20L4 18.59l7.72-7.72 1.47 1.35L5.41 20z\"/>\n",
              "  </svg>\n",
              "      </button>\n",
              "      \n",
              "  <style>\n",
              "    .colab-df-container {\n",
              "      display:flex;\n",
              "      flex-wrap:wrap;\n",
              "      gap: 12px;\n",
              "    }\n",
              "\n",
              "    .colab-df-convert {\n",
              "      background-color: #E8F0FE;\n",
              "      border: none;\n",
              "      border-radius: 50%;\n",
              "      cursor: pointer;\n",
              "      display: none;\n",
              "      fill: #1967D2;\n",
              "      height: 32px;\n",
              "      padding: 0 0 0 0;\n",
              "      width: 32px;\n",
              "    }\n",
              "\n",
              "    .colab-df-convert:hover {\n",
              "      background-color: #E2EBFA;\n",
              "      box-shadow: 0px 1px 2px rgba(60, 64, 67, 0.3), 0px 1px 3px 1px rgba(60, 64, 67, 0.15);\n",
              "      fill: #174EA6;\n",
              "    }\n",
              "\n",
              "    [theme=dark] .colab-df-convert {\n",
              "      background-color: #3B4455;\n",
              "      fill: #D2E3FC;\n",
              "    }\n",
              "\n",
              "    [theme=dark] .colab-df-convert:hover {\n",
              "      background-color: #434B5C;\n",
              "      box-shadow: 0px 1px 3px 1px rgba(0, 0, 0, 0.15);\n",
              "      filter: drop-shadow(0px 1px 2px rgba(0, 0, 0, 0.3));\n",
              "      fill: #FFFFFF;\n",
              "    }\n",
              "  </style>\n",
              "\n",
              "      <script>\n",
              "        const buttonEl =\n",
              "          document.querySelector('#df-743c17f9-9fad-45b6-8b91-716f2be19860 button.colab-df-convert');\n",
              "        buttonEl.style.display =\n",
              "          google.colab.kernel.accessAllowed ? 'block' : 'none';\n",
              "\n",
              "        async function convertToInteractive(key) {\n",
              "          const element = document.querySelector('#df-743c17f9-9fad-45b6-8b91-716f2be19860');\n",
              "          const dataTable =\n",
              "            await google.colab.kernel.invokeFunction('convertToInteractive',\n",
              "                                                     [key], {});\n",
              "          if (!dataTable) return;\n",
              "\n",
              "          const docLinkHtml = 'Like what you see? Visit the ' +\n",
              "            '<a target=\"_blank\" href=https://colab.research.google.com/notebooks/data_table.ipynb>data table notebook</a>'\n",
              "            + ' to learn more about interactive tables.';\n",
              "          element.innerHTML = '';\n",
              "          dataTable['output_type'] = 'display_data';\n",
              "          await google.colab.output.renderOutput(dataTable, element);\n",
              "          const docLink = document.createElement('div');\n",
              "          docLink.innerHTML = docLinkHtml;\n",
              "          element.appendChild(docLink);\n",
              "        }\n",
              "      </script>\n",
              "    </div>\n",
              "  </div>\n",
              "  "
            ]
          },
          "metadata": {},
          "execution_count": 11
        }
      ]
    },
    {
      "metadata": {
        "_uuid": "2bb2bfed62f2559b0f09ff4bc0082e836a92b035",
        "id": "yOgAhA_Kxsqh"
      },
      "cell_type": "markdown",
      "source": [
        "## 1.1. Knowing more about categorical variables"
      ]
    },
    {
      "metadata": {
        "trusted": true,
        "_uuid": "d7d1ec36a22197e9b984da2f56e39834ba7c0003",
        "colab": {
          "base_uri": "https://localhost:8080/"
        },
        "id": "-BVD8cggxsqj",
        "outputId": "2e92e468-261e-41ff-d66f-8235b3c344b4"
      },
      "cell_type": "code",
      "source": [
        "print('Jobs:\\n', bank_client['job'].unique())"
      ],
      "execution_count": 12,
      "outputs": [
        {
          "output_type": "stream",
          "name": "stdout",
          "text": [
            "Jobs:\n",
            " ['housemaid' 'services' 'admin.' 'blue-collar' 'technician' 'retired'\n",
            " 'management' 'unemployed' 'self-employed' 'unknown' 'entrepreneur'\n",
            " 'student']\n"
          ]
        }
      ]
    },
    {
      "metadata": {
        "trusted": true,
        "_uuid": "cb3906d3b5227f8bdcbe2be238826b26c43a2ed8",
        "colab": {
          "base_uri": "https://localhost:8080/"
        },
        "id": "NjD0RYwKxsqm",
        "outputId": "93eaa98e-7a0e-4c56-b6b2-ba4761fe159f"
      },
      "cell_type": "code",
      "source": [
        "print('Marital:\\n', bank_client['marital'].unique())"
      ],
      "execution_count": 13,
      "outputs": [
        {
          "output_type": "stream",
          "name": "stdout",
          "text": [
            "Marital:\n",
            " ['married' 'single' 'divorced' 'unknown']\n"
          ]
        }
      ]
    },
    {
      "metadata": {
        "trusted": true,
        "_uuid": "559ca40b775977431f0d51336fa980c3766dbdbc",
        "colab": {
          "base_uri": "https://localhost:8080/"
        },
        "id": "yHcCyxzpxsqp",
        "outputId": "a4be0aac-bf62-4dc8-c0fe-8492db07ac34"
      },
      "cell_type": "code",
      "source": [
        "print('Education:\\n', bank_client['education'].unique())"
      ],
      "execution_count": 14,
      "outputs": [
        {
          "output_type": "stream",
          "name": "stdout",
          "text": [
            "Education:\n",
            " ['basic.4y' 'high.school' 'basic.6y' 'basic.9y' 'professional.course'\n",
            " 'unknown' 'university.degree' 'illiterate']\n"
          ]
        }
      ]
    },
    {
      "metadata": {
        "trusted": true,
        "_uuid": "6cfb8a3c5a58d8900dbff34ba3c4a37ba858cac3",
        "colab": {
          "base_uri": "https://localhost:8080/"
        },
        "id": "ok2hb0R2xsqq",
        "outputId": "6b9b068d-29ab-41ab-87e2-43d510c85201"
      },
      "cell_type": "code",
      "source": [
        "print('Default:', bank_client['default'].unique())\n",
        "print('Housing:', bank_client['housing'].unique())\n",
        "print('Loan:', bank_client['loan'].unique())"
      ],
      "execution_count": 15,
      "outputs": [
        {
          "output_type": "stream",
          "name": "stdout",
          "text": [
            "Default: ['no' 'unknown' 'yes']\n",
            "Housing: ['no' 'yes' 'unknown']\n",
            "Loan: ['no' 'yes' 'unknown']\n"
          ]
        }
      ]
    },
    {
      "metadata": {
        "_uuid": "adb4aa5f697e3bec0c47e2a439d85715b7716cc9",
        "id": "-fW3LYhdxsqs"
      },
      "cell_type": "markdown",
      "source": [
        "## 1.2. Age"
      ]
    },
    {
      "metadata": {
        "trusted": true,
        "_uuid": "a11f3807ebbba08b67af246288ae60b00e57e83d",
        "colab": {
          "base_uri": "https://localhost:8080/"
        },
        "id": "UzJBmhs5xsqt",
        "outputId": "893da916-0bee-4dc5-e7f8-16b094f07a36"
      },
      "cell_type": "code",
      "source": [
        "print('Min age: ', bank_client['age'].max())\n",
        "print('Max age: ', bank_client['age'].min())"
      ],
      "execution_count": 16,
      "outputs": [
        {
          "output_type": "stream",
          "name": "stdout",
          "text": [
            "Min age:  98\n",
            "Max age:  17\n"
          ]
        }
      ]
    },
    {
      "metadata": {
        "trusted": true,
        "_uuid": "76b297a41c4480b255bae195367b377d1d3e6f62",
        "colab": {
          "base_uri": "https://localhost:8080/",
          "height": 520
        },
        "id": "qDPtgkRsxsqv",
        "outputId": "7d4b89dc-75ef-4d0f-faa1-95c5b34fbd40"
      },
      "cell_type": "code",
      "source": [
        "fig, ax = plt.subplots()\n",
        "fig.set_size_inches(20, 8)\n",
        "sns.countplot(x = 'age', data = bank_client)\n",
        "ax.set_xlabel('Age', fontsize=15)\n",
        "ax.set_ylabel('Count', fontsize=15)\n",
        "ax.set_title('Age Count Distribution', fontsize=15)\n",
        "sns.despine()"
      ],
      "execution_count": 17,
      "outputs": [
        {
          "output_type": "display_data",
          "data": {
            "text/plain": [
              "<Figure size 1440x576 with 1 Axes>"
            ],
            "image/png": "[encoded data removed]"
          },
          "metadata": {
            "needs_background": "light"
          }
        }
      ]
    },
    {
      "metadata": {
        "trusted": true,
        "_uuid": "4540dc708a9b2559c42c0e11b2c3ec5aeee5130a",
        "colab": {
          "base_uri": "https://localhost:8080/",
          "height": 369
        },
        "id": "bYk8eRhRxsqx",
        "outputId": "ee634649-36d0-433a-83f5-3255a5ead598"
      },
      "cell_type": "code",
      "source": [
        "fig, (ax1) = plt.subplots(nrows = 1, figsize = (13, 5))\n",
        "sns.boxplot(x = 'age', data = bank_client, orient = 'v', ax = ax1)\n",
        "ax1.set_xlabel('Age', fontsize=15)\n",
        "ax1.set_title('Age Distribution', fontsize=15)\n",
        "ax1.tick_params(labelsize=15)\n",
        "\n",
        "plt.subplots_adjust(wspace=0.5)\n",
        "plt.tight_layout() "
      ],
      "execution_count": 18,
      "outputs": [
        {
          "output_type": "display_data",
          "data": {
            "text/plain": [
              "<Figure size 936x360 with 1 Axes>"
            ],
            "image/png": "[encoded data removed]"
          },
          "metadata": {
            "needs_background": "light"
          }
        }
      ]
    },
    {
      "metadata": {
        "trusted": true,
        "_uuid": "7df379de23e022834896b70d4799e4449e282411",
        "colab": {
          "base_uri": "https://localhost:8080/"
        },
        "id": "5ZbvUCRCxsq1",
        "outputId": "87e2f6f3-d9a0-40f7-ea08-c8244ab109de"
      },
      "cell_type": "code",
      "source": [
        "# Quartile\n",
        "print('Quartile 1: ', bank_client['age'].quantile(q = 0.25))\n",
        "print('Quartile 2: ', bank_client['age'].quantile(q = 0.50))\n",
        "print('Quartile 3: ', bank_client['age'].quantile(q = 0.75))\n",
        "print('Quartile 4: ', bank_client['age'].quantile(q = 1.00))\n",
        "    \n",
        "print('Umur di atas: ', bank_client['age'].quantile(q = 0.75) + \n",
        "                      1.5*(bank_client['age'].quantile(q = 0.75) - bank_client['age'].quantile(q = 0.25)), 'adalah outliers')"
      ],
      "execution_count": 19,
      "outputs": [
        {
          "output_type": "stream",
          "name": "stdout",
          "text": [
            "Quartile 1:  32.0\n",
            "Quartile 2:  38.0\n",
            "Quartile 3:  47.0\n",
            "Quartile 4:  98.0\n",
            "Umur di atas:  69.5 adalah outliers\n"
          ]
        }
      ]
    },
    {
      "metadata": {
        "_uuid": "adc0a9d318843c4e9fa283f49e5dd469e382a5b2",
        "id": "756VjN97xsq4"
      },
      "cell_type": "markdown",
      "source": [
        "## 1.3. JOBS"
      ]
    },
    {
      "metadata": {
        "trusted": true,
        "_uuid": "328081b7298c001e2ee03123a189ce49a852aca9",
        "colab": {
          "base_uri": "https://localhost:8080/",
          "height": 496
        },
        "id": "0MJkMTzlxsq5",
        "outputId": "4146b0a4-59c6-433d-92d8-9aeafb6096cf"
      },
      "cell_type": "code",
      "source": [
        "fig, ax = plt.subplots()\n",
        "fig.set_size_inches(25, 8)\n",
        "sns.countplot(x = 'job', data = bank_client)\n",
        "ax.set_xlabel('Job', fontsize=15)\n",
        "ax.set_ylabel('Count', fontsize=15)\n",
        "ax.set_title('Job Distribution', fontsize=15)\n",
        "ax.tick_params(labelsize=15)\n",
        "sns.despine()"
      ],
      "execution_count": 20,
      "outputs": [
        {
          "output_type": "display_data",
          "data": {
            "text/plain": [
              "<Figure size 1800x576 with 1 Axes>"
            ],
            "image/png": "[encoded data removed]"
          },
          "metadata": {
            "needs_background": "light"
          }
        }
      ]
    },
    {
      "metadata": {
        "_uuid": "1e4fe4099cd73d3921dcd94dddf58de1a360b762",
        "id": "_TWCVrDbxsq6"
      },
      "cell_type": "markdown",
      "source": [
        "## 1.4. MARITAL"
      ]
    },
    {
      "metadata": {
        "trusted": true,
        "_uuid": "02c1b1544f6e3096be49b60a189cdc6fdb6ab476",
        "colab": {
          "base_uri": "https://localhost:8080/",
          "height": 0
        },
        "id": "_nK_aukoxsq7",
        "outputId": "d065edf5-d408-4412-a86c-b3fc32a96ad4"
      },
      "cell_type": "code",
      "source": [
        "fig, ax = plt.subplots()\n",
        "fig.set_size_inches(10, 5)\n",
        "sns.countplot(x = 'marital', data = bank_client)\n",
        "ax.set_xlabel('Marital', fontsize=15)\n",
        "ax.set_ylabel('Count', fontsize=15)\n",
        "ax.set_title('Marital Distribution', fontsize=15)\n",
        "ax.tick_params(labelsize=15)\n",
        "sns.despine()"
      ],
      "execution_count": 21,
      "outputs": [
        {
          "output_type": "display_data",
          "data": {
            "text/plain": [
              "<Figure size 720x360 with 1 Axes>"
            ],
            "image/png": "[encoded data removed]"
          },
          "metadata": {
            "needs_background": "light"
          }
        }
      ]
    },
    {
      "metadata": {
        "_uuid": "e68ce1aa14060354004b302bec8fd81b54086443",
        "id": "1aELxqeNxsq8"
      },
      "cell_type": "markdown",
      "source": [
        "## 1.5. EDUCATION"
      ]
    },
    {
      "metadata": {
        "trusted": true,
        "_uuid": "23cc0a9aec83f18cfdb5a4ed449a914d09704bba",
        "colab": {
          "base_uri": "https://localhost:8080/",
          "height": 0
        },
        "id": "tmGJpV9dxsq8",
        "outputId": "95a4a056-cab1-41dd-dcab-6b8c01aeb17b"
      },
      "cell_type": "code",
      "source": [
        "fig, ax = plt.subplots()\n",
        "fig.set_size_inches(20, 5)\n",
        "sns.countplot(x = 'education', data = bank_client)\n",
        "ax.set_xlabel('Education', fontsize=15)\n",
        "ax.set_ylabel('Count', fontsize=15)\n",
        "ax.set_title('Education Distribution', fontsize=15)\n",
        "ax.tick_params(labelsize=15)\n",
        "sns.despine()"
      ],
      "execution_count": 22,
      "outputs": [
        {
          "output_type": "display_data",
          "data": {
            "text/plain": [
              "<Figure size 1440x360 with 1 Axes>"
            ],
            "image/png": "[encoded data removed]"
          },
          "metadata": {
            "needs_background": "light"
          }
        }
      ]
    },
    {
      "metadata": {
        "_uuid": "fa2e4b57ff1364efd4d76f95b05e1cfaa20405f3",
        "id": "vgpBMs2Txsq8"
      },
      "cell_type": "markdown",
      "source": [
        "## 1.6. DEFAULT, HOUSING, LOAN"
      ]
    },
    {
      "metadata": {
        "trusted": true,
        "_uuid": "cdfee53e8634854b28b996c18cc6e9aa16cf4217",
        "colab": {
          "base_uri": "https://localhost:8080/",
          "height": 0
        },
        "id": "A0DaE8j2xsq9",
        "outputId": "6968cc29-50d9-4f08-e2b2-1c5296f94955"
      },
      "cell_type": "code",
      "source": [
        "# Default, has credit in default ?\n",
        "fig, (ax1, ax2, ax3) = plt.subplots(nrows = 1, ncols = 3, figsize = (20,8))\n",
        "sns.countplot(x = 'default', data = bank_client, ax = ax1, order = ['no', 'unknown', 'yes'])\n",
        "ax1.set_title('Default', fontsize=15)\n",
        "ax1.set_xlabel('')\n",
        "ax1.set_ylabel('Count', fontsize=15)\n",
        "ax1.tick_params(labelsize=15)\n",
        "\n",
        "# Housing, has housing loan ?\n",
        "sns.countplot(x = 'housing', data = bank_client, ax = ax2, order = ['no', 'unknown', 'yes'])\n",
        "ax2.set_title('Housing', fontsize=15)\n",
        "ax2.set_xlabel('')\n",
        "ax2.set_ylabel('Count', fontsize=15)\n",
        "ax2.tick_params(labelsize=15)\n",
        "\n",
        "# Loan, has personal loan ?\n",
        "sns.countplot(x = 'loan', data = bank_client, ax = ax3, order = ['no', 'unknown', 'yes'])\n",
        "ax3.set_title('Loan', fontsize=15)\n",
        "ax3.set_xlabel('')\n",
        "ax3.set_ylabel('Count', fontsize=15)\n",
        "ax3.tick_params(labelsize=15)\n",
        "\n",
        "plt.subplots_adjust(wspace=0.25)"
      ],
      "execution_count": 23,
      "outputs": [
        {
          "output_type": "display_data",
          "data": {
            "text/plain": [
              "<Figure size 1440x576 with 3 Axes>"
            ],
            "image/png": "[encoded data removed]"
          },
          "metadata": {
            "needs_background": "light"
          }
        }
      ]
    },
    {
      "metadata": {
        "_uuid": "3b069e72e187a51dca83dbb63fde129be85e5603",
        "id": "0UazkTVGxsrC"
      },
      "cell_type": "markdown",
      "source": [
        "# 2. Related with the last contact of the current campaign\n"
      ]
    },
    {
      "metadata": {
        "trusted": true,
        "_uuid": "c3f768ff39ffd1dd66f8301b74b25ff435606ed3",
        "colab": {
          "base_uri": "https://localhost:8080/",
          "height": 0
        },
        "id": "cFIV5qSGxsrD",
        "outputId": "d871f417-bd65-487c-cc47-a50dc76cfddf"
      },
      "cell_type": "code",
      "source": [
        "bank_related = bank.iloc[: , 9:13]\n",
        "bank_related.head()"
      ],
      "execution_count": 24,
      "outputs": [
        {
          "output_type": "execute_result",
          "data": {
            "text/plain": [
              "     contact month day_of_week  duration\n",
              "0  telephone   may         mon       261\n",
              "1  telephone   may         mon       149\n",
              "2  telephone   may         mon       226\n",
              "3  telephone   may         mon       151\n",
              "4  telephone   may         mon       307"
            ],
            "text/html": [
              "\n",
              "  <div id=\"df-2979b609-dd46-43e9-afde-9ff756345fa8\">\n",
              "    <div class=\"colab-df-container\">\n",
              "      <div>\n",
              "<style scoped>\n",
              "    .dataframe tbody tr th:only-of-type {\n",
              "        vertical-align: middle;\n",
              "    }\n",
              "\n",
              "    .dataframe tbody tr th {\n",
              "        vertical-align: top;\n",
              "    }\n",
              "\n",
              "    .dataframe thead th {\n",
              "        text-align: right;\n",
              "    }\n",
              "</style>\n",
              "<table border=\"1\" class=\"dataframe\">\n",
              "  <thead>\n",
              "    <tr style=\"text-align: right;\">\n",
              "      <th></th>\n",
              "      <th>contact</th>\n",
              "      <th>month</th>\n",
              "      <th>day_of_week</th>\n",
              "      <th>duration</th>\n",
              "    </tr>\n",
              "  </thead>\n",
              "  <tbody>\n",
              "    <tr>\n",
              "      <th>0</th>\n",
              "      <td>telephone</td>\n",
              "      <td>may</td>\n",
              "      <td>mon</td>\n",
              "      <td>261</td>\n",
              "    </tr>\n",
              "    <tr>\n",
              "      <th>1</th>\n",
              "      <td>telephone</td>\n",
              "      <td>may</td>\n",
              "      <td>mon</td>\n",
              "      <td>149</td>\n",
              "    </tr>\n",
              "    <tr>\n",
              "      <th>2</th>\n",
              "      <td>telephone</td>\n",
              "      <td>may</td>\n",
              "      <td>mon</td>\n",
              "      <td>226</td>\n",
              "    </tr>\n",
              "    <tr>\n",
              "      <th>3</th>\n",
              "      <td>telephone</td>\n",
              "      <td>may</td>\n",
              "      <td>mon</td>\n",
              "      <td>151</td>\n",
              "    </tr>\n",
              "    <tr>\n",
              "      <th>4</th>\n",
              "      <td>telephone</td>\n",
              "      <td>may</td>\n",
              "      <td>mon</td>\n",
              "      <td>307</td>\n",
              "    </tr>\n",
              "  </tbody>\n",
              "</table>\n",
              "</div>\n",
              "      <button class=\"colab-df-convert\" onclick=\"convertToInteractive('df-2979b609-dd46-43e9-afde-9ff756345fa8')\"\n",
              "              title=\"Convert this dataframe to an interactive table.\"\n",
              "              style=\"display:none;\">\n",
              "        \n",
              "  <svg xmlns=\"http://www.w3.org/2000/svg\" height=\"24px\"viewBox=\"0 0 24 24\"\n",
              "       width=\"24px\">\n",
              "    <path d=\"M0 0h24v24H0V0z\" fill=\"none\"/>\n",
              "    <path d=\"M18.56 5.44l.94 2.06.94-2.06 2.06-.94-2.06-.94-.94-2.06-.94 2.06-2.06.94zm-11 1L8.5 8.5l.94-2.06 2.06-.94-2.06-.94L8.5 2.5l-.94 2.06-2.06.94zm10 10l.94 2.06.94-2.06 2.06-.94-2.06-.94-.94-2.06-.94 2.06-2.06.94z\"/><path d=\"M17.41 7.96l-1.37-1.37c-.4-.4-.92-.59-1.43-.59-.52 0-1.04.2-1.43.59L10.3 9.45l-7.72 7.72c-.78.78-.78 2.05 0 2.83L4 21.41c.39.39.9.59 1.41.59.51 0 1.02-.2 1.41-.59l7.78-7.78 2.81-2.81c.8-.78.8-2.07 0-2.86zM5.41 20L4 18.59l7.72-7.72 1.47 1.35L5.41 20z\"/>\n",
              "  </svg>\n",
              "      </button>\n",
              "      \n",
              "  <style>\n",
              "    .colab-df-container {\n",
              "      display:flex;\n",
              "      flex-wrap:wrap;\n",
              "      gap: 12px;\n",
              "    }\n",
              "\n",
              "    .colab-df-convert {\n",
              "      background-color: #E8F0FE;\n",
              "      border: none;\n",
              "      border-radius: 50%;\n",
              "      cursor: pointer;\n",
              "      display: none;\n",
              "      fill: #1967D2;\n",
              "      height: 32px;\n",
              "      padding: 0 0 0 0;\n",
              "      width: 32px;\n",
              "    }\n",
              "\n",
              "    .colab-df-convert:hover {\n",
              "      background-color: #E2EBFA;\n",
              "      box-shadow: 0px 1px 2px rgba(60, 64, 67, 0.3), 0px 1px 3px 1px rgba(60, 64, 67, 0.15);\n",
              "      fill: #174EA6;\n",
              "    }\n",
              "\n",
              "    [theme=dark] .colab-df-convert {\n",
              "      background-color: #3B4455;\n",
              "      fill: #D2E3FC;\n",
              "    }\n",
              "\n",
              "    [theme=dark] .colab-df-convert:hover {\n",
              "      background-color: #434B5C;\n",
              "      box-shadow: 0px 1px 3px 1px rgba(0, 0, 0, 0.15);\n",
              "      filter: drop-shadow(0px 1px 2px rgba(0, 0, 0, 0.3));\n",
              "      fill: #FFFFFF;\n",
              "    }\n",
              "  </style>\n",
              "\n",
              "      <script>\n",
              "        const buttonEl =\n",
              "          document.querySelector('#df-2979b609-dd46-43e9-afde-9ff756345fa8 button.colab-df-convert');\n",
              "        buttonEl.style.display =\n",
              "          google.colab.kernel.accessAllowed ? 'block' : 'none';\n",
              "\n",
              "        async function convertToInteractive(key) {\n",
              "          const element = document.querySelector('#df-2979b609-dd46-43e9-afde-9ff756345fa8');\n",
              "          const dataTable =\n",
              "            await google.colab.kernel.invokeFunction('convertToInteractive',\n",
              "                                                     [key], {});\n",
              "          if (!dataTable) return;\n",
              "\n",
              "          const docLinkHtml = 'Like what you see? Visit the ' +\n",
              "            '<a target=\"_blank\" href=https://colab.research.google.com/notebooks/data_table.ipynb>data table notebook</a>'\n",
              "            + ' to learn more about interactive tables.';\n",
              "          element.innerHTML = '';\n",
              "          dataTable['output_type'] = 'display_data';\n",
              "          await google.colab.output.renderOutput(dataTable, element);\n",
              "          const docLink = document.createElement('div');\n",
              "          docLink.innerHTML = docLinkHtml;\n",
              "          element.appendChild(docLink);\n",
              "        }\n",
              "      </script>\n",
              "    </div>\n",
              "  </div>\n",
              "  "
            ]
          },
          "metadata": {},
          "execution_count": 24
        }
      ]
    },
    {
      "metadata": {
        "trusted": true,
        "_uuid": "b399751e5efba281811da5cc478f4149cc0f8f9d",
        "colab": {
          "base_uri": "https://localhost:8080/"
        },
        "id": "WM-J2LaqxsrG",
        "outputId": "7465dda0-9409-44ce-af93-9cd87435019b"
      },
      "cell_type": "code",
      "source": [
        "print(\"Kind of Contact: \", bank_related['contact'].unique())\n",
        "print(\"\\nWhich monthis this campaing work: \", bank_related['month'].unique())\n",
        "print(\"\\nWhich days of week this campaing work: \", bank_related['day_of_week'].unique())"
      ],
      "execution_count": 25,
      "outputs": [
        {
          "output_type": "stream",
          "name": "stdout",
          "text": [
            "Kind of Contact:  ['telephone' 'cellular']\n",
            "\n",
            "Which monthis this campaing work:  ['may' 'jun' 'jul' 'aug' 'oct' 'nov' 'dec' 'mar' 'apr' 'sep']\n",
            "\n",
            "Which days of week this campaing work:  ['mon' 'tue' 'wed' 'thu' 'fri']\n"
          ]
        }
      ]
    },
    {
      "metadata": {
        "_uuid": "6e5bde5beb785487f16ca02d9973f94703a03ed9",
        "id": "RmDmAVCTxsrO"
      },
      "cell_type": "markdown",
      "source": [
        "## 2.2 Contact, Month, Day of Week"
      ]
    },
    {
      "metadata": {
        "trusted": true,
        "_uuid": "a7be0cc2b28701447ac0ee9d029bdd6bb6f8a6e3",
        "colab": {
          "base_uri": "https://localhost:8080/",
          "height": 0
        },
        "id": "MbWvSKvuxsrO",
        "outputId": "7d3298b2-6578-4deb-cd91-fa75fdb964b7"
      },
      "cell_type": "code",
      "source": [
        "fig, (ax1, ax2, ax3) = plt.subplots(nrows = 1, ncols = 3, figsize = (15,6))\n",
        "sns.countplot(bank_related['contact'], ax = ax1)\n",
        "ax1.set_xlabel('Contact', fontsize = 10)\n",
        "ax1.set_ylabel('Count', fontsize = 10)\n",
        "ax1.set_title('Contact Distribution')\n",
        "ax1.tick_params(labelsize=10)\n",
        "\n",
        "sns.countplot(bank_related['month'], ax = ax2, order = ['mar', 'apr', 'may', 'jun', 'jul', 'aug', 'sep', 'oct', 'nov', 'dec'])\n",
        "ax2.set_xlabel('Months', fontsize = 10)\n",
        "ax2.set_ylabel('')\n",
        "ax2.set_title('Months Distribution')\n",
        "ax2.tick_params(labelsize=10)\n",
        "\n",
        "sns.countplot(bank_related['day_of_week'], ax = ax3)\n",
        "ax3.set_xlabel('Day of Week Distribution', fontsize = 10)\n",
        "ax3.set_ylabel('')\n",
        "ax3.set_title('Day of Week Counts')\n",
        "ax3.tick_params(labelsize=10)\n",
        "\n",
        "plt.subplots_adjust(wspace=0.25)"
      ],
      "execution_count": 26,
      "outputs": [
        {
          "output_type": "display_data",
          "data": {
            "text/plain": [
              "<Figure size 1080x432 with 3 Axes>"
            ],
            "image/png": "[encoded data removed]"
          },
          "metadata": {
            "needs_background": "light"
          }
        }
      ]
    },
    {
      "metadata": {
        "_uuid": "4dfdedb057335db9e6793255c3751b46f3b10853",
        "id": "Ym19rk6ExsrR"
      },
      "cell_type": "markdown",
      "source": [
        "# 3. Social and economic context attributes"
      ]
    },
    {
      "metadata": {
        "trusted": true,
        "_uuid": "8a8a5fd284722f99df5e61466e71d40e60acd181",
        "colab": {
          "base_uri": "https://localhost:8080/",
          "height": 0
        },
        "id": "oh2tGqNwxsrR",
        "outputId": "fa649139-c97c-4c4e-ec08-0bb739014086"
      },
      "cell_type": "code",
      "source": [
        "bank_se = bank.loc[: , ['emp.var.rate', 'cons.price.idx', 'cons.conf.idx', 'euribor3m', 'nr.employed']]\n",
        "bank_se.head()"
      ],
      "execution_count": 27,
      "outputs": [
        {
          "output_type": "execute_result",
          "data": {
            "text/plain": [
              "   emp.var.rate cons.price.idx  cons.conf.idx euribor3m  nr.employed\n",
              "0           1.1         93 994          -36.4     4 857       5191.0\n",
              "1           1.1         93 994          -36.4     4 857       5191.0\n",
              "2           1.1         93 994          -36.4     4 857       5191.0\n",
              "3           1.1         93 994          -36.4     4 857       5191.0\n",
              "4           1.1         93 994          -36.4     4 857       5191.0"
            ],
            "text/html": [
              "\n",
              "  <div id=\"df-63370d62-2c39-4996-9c01-5a238f4f1a75\">\n",
              "    <div class=\"colab-df-container\">\n",
              "      <div>\n",
              "<style scoped>\n",
              "    .dataframe tbody tr th:only-of-type {\n",
              "        vertical-align: middle;\n",
              "    }\n",
              "\n",
              "    .dataframe tbody tr th {\n",
              "        vertical-align: top;\n",
              "    }\n",
              "\n",
              "    .dataframe thead th {\n",
              "        text-align: right;\n",
              "    }\n",
              "</style>\n",
              "<table border=\"1\" class=\"dataframe\">\n",
              "  <thead>\n",
              "    <tr style=\"text-align: right;\">\n",
              "      <th></th>\n",
              "      <th>emp.var.rate</th>\n",
              "      <th>cons.price.idx</th>\n",
              "      <th>cons.conf.idx</th>\n",
              "      <th>euribor3m</th>\n",
              "      <th>nr.employed</th>\n",
              "    </tr>\n",
              "  </thead>\n",
              "  <tbody>\n",
              "    <tr>\n",
              "      <th>0</th>\n",
              "      <td>1.1</td>\n",
              "      <td>93 994</td>\n",
              "      <td>-36.4</td>\n",
              "      <td>4 857</td>\n",
              "      <td>5191.0</td>\n",
              "    </tr>\n",
              "    <tr>\n",
              "      <th>1</th>\n",
              "      <td>1.1</td>\n",
              "      <td>93 994</td>\n",
              "      <td>-36.4</td>\n",
              "      <td>4 857</td>\n",
              "      <td>5191.0</td>\n",
              "    </tr>\n",
              "    <tr>\n",
              "      <th>2</th>\n",
              "      <td>1.1</td>\n",
              "      <td>93 994</td>\n",
              "      <td>-36.4</td>\n",
              "      <td>4 857</td>\n",
              "      <td>5191.0</td>\n",
              "    </tr>\n",
              "    <tr>\n",
              "      <th>3</th>\n",
              "      <td>1.1</td>\n",
              "      <td>93 994</td>\n",
              "      <td>-36.4</td>\n",
              "      <td>4 857</td>\n",
              "      <td>5191.0</td>\n",
              "    </tr>\n",
              "    <tr>\n",
              "      <th>4</th>\n",
              "      <td>1.1</td>\n",
              "      <td>93 994</td>\n",
              "      <td>-36.4</td>\n",
              "      <td>4 857</td>\n",
              "      <td>5191.0</td>\n",
              "    </tr>\n",
              "  </tbody>\n",
              "</table>\n",
              "</div>\n",
              "      <button class=\"colab-df-convert\" onclick=\"convertToInteractive('df-63370d62-2c39-4996-9c01-5a238f4f1a75')\"\n",
              "              title=\"Convert this dataframe to an interactive table.\"\n",
              "              style=\"display:none;\">\n",
              "        \n",
              "  <svg xmlns=\"http://www.w3.org/2000/svg\" height=\"24px\"viewBox=\"0 0 24 24\"\n",
              "       width=\"24px\">\n",
              "    <path d=\"M0 0h24v24H0V0z\" fill=\"none\"/>\n",
              "    <path d=\"M18.56 5.44l.94 2.06.94-2.06 2.06-.94-2.06-.94-.94-2.06-.94 2.06-2.06.94zm-11 1L8.5 8.5l.94-2.06 2.06-.94-2.06-.94L8.5 2.5l-.94 2.06-2.06.94zm10 10l.94 2.06.94-2.06 2.06-.94-2.06-.94-.94-2.06-.94 2.06-2.06.94z\"/><path d=\"M17.41 7.96l-1.37-1.37c-.4-.4-.92-.59-1.43-.59-.52 0-1.04.2-1.43.59L10.3 9.45l-7.72 7.72c-.78.78-.78 2.05 0 2.83L4 21.41c.39.39.9.59 1.41.59.51 0 1.02-.2 1.41-.59l7.78-7.78 2.81-2.81c.8-.78.8-2.07 0-2.86zM5.41 20L4 18.59l7.72-7.72 1.47 1.35L5.41 20z\"/>\n",
              "  </svg>\n",
              "      </button>\n",
              "      \n",
              "  <style>\n",
              "    .colab-df-container {\n",
              "      display:flex;\n",
              "      flex-wrap:wrap;\n",
              "      gap: 12px;\n",
              "    }\n",
              "\n",
              "    .colab-df-convert {\n",
              "      background-color: #E8F0FE;\n",
              "      border: none;\n",
              "      border-radius: 50%;\n",
              "      cursor: pointer;\n",
              "      display: none;\n",
              "      fill: #1967D2;\n",
              "      height: 32px;\n",
              "      padding: 0 0 0 0;\n",
              "      width: 32px;\n",
              "    }\n",
              "\n",
              "    .colab-df-convert:hover {\n",
              "      background-color: #E2EBFA;\n",
              "      box-shadow: 0px 1px 2px rgba(60, 64, 67, 0.3), 0px 1px 3px 1px rgba(60, 64, 67, 0.15);\n",
              "      fill: #174EA6;\n",
              "    }\n",
              "\n",
              "    [theme=dark] .colab-df-convert {\n",
              "      background-color: #3B4455;\n",
              "      fill: #D2E3FC;\n",
              "    }\n",
              "\n",
              "    [theme=dark] .colab-df-convert:hover {\n",
              "      background-color: #434B5C;\n",
              "      box-shadow: 0px 1px 3px 1px rgba(0, 0, 0, 0.15);\n",
              "      filter: drop-shadow(0px 1px 2px rgba(0, 0, 0, 0.3));\n",
              "      fill: #FFFFFF;\n",
              "    }\n",
              "  </style>\n",
              "\n",
              "      <script>\n",
              "        const buttonEl =\n",
              "          document.querySelector('#df-63370d62-2c39-4996-9c01-5a238f4f1a75 button.colab-df-convert');\n",
              "        buttonEl.style.display =\n",
              "          google.colab.kernel.accessAllowed ? 'block' : 'none';\n",
              "\n",
              "        async function convertToInteractive(key) {\n",
              "          const element = document.querySelector('#df-63370d62-2c39-4996-9c01-5a238f4f1a75');\n",
              "          const dataTable =\n",
              "            await google.colab.kernel.invokeFunction('convertToInteractive',\n",
              "                                                     [key], {});\n",
              "          if (!dataTable) return;\n",
              "\n",
              "          const docLinkHtml = 'Like what you see? Visit the ' +\n",
              "            '<a target=\"_blank\" href=https://colab.research.google.com/notebooks/data_table.ipynb>data table notebook</a>'\n",
              "            + ' to learn more about interactive tables.';\n",
              "          element.innerHTML = '';\n",
              "          dataTable['output_type'] = 'display_data';\n",
              "          await google.colab.output.renderOutput(dataTable, element);\n",
              "          const docLink = document.createElement('div');\n",
              "          docLink.innerHTML = docLinkHtml;\n",
              "          element.appendChild(docLink);\n",
              "        }\n",
              "      </script>\n",
              "    </div>\n",
              "  </div>\n",
              "  "
            ]
          },
          "metadata": {},
          "execution_count": 27
        }
      ]
    },
    {
      "metadata": {
        "_uuid": "cc46f7440c72978912db6d4b365cda66cf8b9319",
        "id": "qAqt46r4xsrR"
      },
      "cell_type": "markdown",
      "source": [
        "# 4. Other attributes"
      ]
    },
    {
      "metadata": {
        "trusted": true,
        "_uuid": "dea7f748e4043fa7e03305217ad268f6e7d016f2",
        "colab": {
          "base_uri": "https://localhost:8080/",
          "height": 206
        },
        "id": "m6xhLPjSxsrS",
        "outputId": "7234db75-2f0c-42b7-b2d7-1e530a1f4163"
      },
      "cell_type": "code",
      "source": [
        "bank_o = bank.loc[: , ['campaign', 'pdays','previous', 'poutcome']]\n",
        "bank_o.head()"
      ],
      "execution_count": 28,
      "outputs": [
        {
          "output_type": "execute_result",
          "data": {
            "text/plain": [
              "   campaign  pdays  previous     poutcome\n",
              "0         1    999         0  nonexistent\n",
              "1         1    999         0  nonexistent\n",
              "2         1    999         0  nonexistent\n",
              "3         1    999         0  nonexistent\n",
              "4         1    999         0  nonexistent"
            ],
            "text/html": [
              "\n",
              "  <div id=\"df-3bb33727-baf8-4c13-ab7c-c697d4b6c335\">\n",
              "    <div class=\"colab-df-container\">\n",
              "      <div>\n",
              "<style scoped>\n",
              "    .dataframe tbody tr th:only-of-type {\n",
              "        vertical-align: middle;\n",
              "    }\n",
              "\n",
              "    .dataframe tbody tr th {\n",
              "        vertical-align: top;\n",
              "    }\n",
              "\n",
              "    .dataframe thead th {\n",
              "        text-align: right;\n",
              "    }\n",
              "</style>\n",
              "<table border=\"1\" class=\"dataframe\">\n",
              "  <thead>\n",
              "    <tr style=\"text-align: right;\">\n",
              "      <th></th>\n",
              "      <th>campaign</th>\n",
              "      <th>pdays</th>\n",
              "      <th>previous</th>\n",
              "      <th>poutcome</th>\n",
              "    </tr>\n",
              "  </thead>\n",
              "  <tbody>\n",
              "    <tr>\n",
              "      <th>0</th>\n",
              "      <td>1</td>\n",
              "      <td>999</td>\n",
              "      <td>0</td>\n",
              "      <td>nonexistent</td>\n",
              "    </tr>\n",
              "    <tr>\n",
              "      <th>1</th>\n",
              "      <td>1</td>\n",
              "      <td>999</td>\n",
              "      <td>0</td>\n",
              "      <td>nonexistent</td>\n",
              "    </tr>\n",
              "    <tr>\n",
              "      <th>2</th>\n",
              "      <td>1</td>\n",
              "      <td>999</td>\n",
              "      <td>0</td>\n",
              "      <td>nonexistent</td>\n",
              "    </tr>\n",
              "    <tr>\n",
              "      <th>3</th>\n",
              "      <td>1</td>\n",
              "      <td>999</td>\n",
              "      <td>0</td>\n",
              "      <td>nonexistent</td>\n",
              "    </tr>\n",
              "    <tr>\n",
              "      <th>4</th>\n",
              "      <td>1</td>\n",
              "      <td>999</td>\n",
              "      <td>0</td>\n",
              "      <td>nonexistent</td>\n",
              "    </tr>\n",
              "  </tbody>\n",
              "</table>\n",
              "</div>\n",
              "      <button class=\"colab-df-convert\" onclick=\"convertToInteractive('df-3bb33727-baf8-4c13-ab7c-c697d4b6c335')\"\n",
              "              title=\"Convert this dataframe to an interactive table.\"\n",
              "              style=\"display:none;\">\n",
              "        \n",
              "  <svg xmlns=\"http://www.w3.org/2000/svg\" height=\"24px\"viewBox=\"0 0 24 24\"\n",
              "       width=\"24px\">\n",
              "    <path d=\"M0 0h24v24H0V0z\" fill=\"none\"/>\n",
              "    <path d=\"M18.56 5.44l.94 2.06.94-2.06 2.06-.94-2.06-.94-.94-2.06-.94 2.06-2.06.94zm-11 1L8.5 8.5l.94-2.06 2.06-.94-2.06-.94L8.5 2.5l-.94 2.06-2.06.94zm10 10l.94 2.06.94-2.06 2.06-.94-2.06-.94-.94-2.06-.94 2.06-2.06.94z\"/><path d=\"M17.41 7.96l-1.37-1.37c-.4-.4-.92-.59-1.43-.59-.52 0-1.04.2-1.43.59L10.3 9.45l-7.72 7.72c-.78.78-.78 2.05 0 2.83L4 21.41c.39.39.9.59 1.41.59.51 0 1.02-.2 1.41-.59l7.78-7.78 2.81-2.81c.8-.78.8-2.07 0-2.86zM5.41 20L4 18.59l7.72-7.72 1.47 1.35L5.41 20z\"/>\n",
              "  </svg>\n",
              "      </button>\n",
              "      \n",
              "  <style>\n",
              "    .colab-df-container {\n",
              "      display:flex;\n",
              "      flex-wrap:wrap;\n",
              "      gap: 12px;\n",
              "    }\n",
              "\n",
              "    .colab-df-convert {\n",
              "      background-color: #E8F0FE;\n",
              "      border: none;\n",
              "      border-radius: 50%;\n",
              "      cursor: pointer;\n",
              "      display: none;\n",
              "      fill: #1967D2;\n",
              "      height: 32px;\n",
              "      padding: 0 0 0 0;\n",
              "      width: 32px;\n",
              "    }\n",
              "\n",
              "    .colab-df-convert:hover {\n",
              "      background-color: #E2EBFA;\n",
              "      box-shadow: 0px 1px 2px rgba(60, 64, 67, 0.3), 0px 1px 3px 1px rgba(60, 64, 67, 0.15);\n",
              "      fill: #174EA6;\n",
              "    }\n",
              "\n",
              "    [theme=dark] .colab-df-convert {\n",
              "      background-color: #3B4455;\n",
              "      fill: #D2E3FC;\n",
              "    }\n",
              "\n",
              "    [theme=dark] .colab-df-convert:hover {\n",
              "      background-color: #434B5C;\n",
              "      box-shadow: 0px 1px 3px 1px rgba(0, 0, 0, 0.15);\n",
              "      filter: drop-shadow(0px 1px 2px rgba(0, 0, 0, 0.3));\n",
              "      fill: #FFFFFF;\n",
              "    }\n",
              "  </style>\n",
              "\n",
              "      <script>\n",
              "        const buttonEl =\n",
              "          document.querySelector('#df-3bb33727-baf8-4c13-ab7c-c697d4b6c335 button.colab-df-convert');\n",
              "        buttonEl.style.display =\n",
              "          google.colab.kernel.accessAllowed ? 'block' : 'none';\n",
              "\n",
              "        async function convertToInteractive(key) {\n",
              "          const element = document.querySelector('#df-3bb33727-baf8-4c13-ab7c-c697d4b6c335');\n",
              "          const dataTable =\n",
              "            await google.colab.kernel.invokeFunction('convertToInteractive',\n",
              "                                                     [key], {});\n",
              "          if (!dataTable) return;\n",
              "\n",
              "          const docLinkHtml = 'Like what you see? Visit the ' +\n",
              "            '<a target=\"_blank\" href=https://colab.research.google.com/notebooks/data_table.ipynb>data table notebook</a>'\n",
              "            + ' to learn more about interactive tables.';\n",
              "          element.innerHTML = '';\n",
              "          dataTable['output_type'] = 'display_data';\n",
              "          await google.colab.output.renderOutput(dataTable, element);\n",
              "          const docLink = document.createElement('div');\n",
              "          docLink.innerHTML = docLinkHtml;\n",
              "          element.appendChild(docLink);\n",
              "        }\n",
              "      </script>\n",
              "    </div>\n",
              "  </div>\n",
              "  "
            ]
          },
          "metadata": {},
          "execution_count": 28
        }
      ]
    },
    {
      "metadata": {
        "trusted": true,
        "_uuid": "8ef971c9ec214bf2aa7d046eed5390d505149d6b",
        "colab": {
          "base_uri": "https://localhost:8080/"
        },
        "id": "1WNk5Z34xsrS",
        "outputId": "062f2b57-d30d-45f3-f6aa-d5c7c3b50fbb"
      },
      "cell_type": "code",
      "source": [
        "bank_o['poutcome'].unique()"
      ],
      "execution_count": 29,
      "outputs": [
        {
          "output_type": "execute_result",
          "data": {
            "text/plain": [
              "array(['nonexistent', 'failure', 'success'], dtype=object)"
            ]
          },
          "metadata": {},
          "execution_count": 29
        }
      ]
    },
    {
      "cell_type": "code",
      "source": [
        "fig, ax = plt.subplots(3,4, figsize=(20,17))\n",
        "cat = bank.select_dtypes('object').columns.to_list()\n",
        "cat = cat[:-1]\n",
        "ax = ax.ravel()\n",
        "position = 0\n",
        "for i in cat:\n",
        "    \n",
        "    order = bank[i].value_counts().index\n",
        "    sns.countplot(data=bank, x=i, ax=ax[position], hue='y', palette='GnBu', order=order)\n",
        "    ax[position].tick_params(labelrotation=90)\n",
        "    ax[position].set_title(i, fontdict={'fontsize':17})\n",
        "    \n",
        "    position += 1\n",
        "\n",
        "plt.subplots_adjust(hspace=0.7)\n",
        "\n",
        "plt.show()"
      ],
      "metadata": {
        "colab": {
          "base_uri": "https://localhost:8080/",
          "height": 1000
        },
        "id": "PK5S6UFI-F9h",
        "outputId": "9a0c7463-c7e8-4e86-a71f-3c536be97c41"
      },
      "execution_count": 34,
      "outputs": [
        {
          "output_type": "display_data",
          "data": {
            "text/plain": [
              "<Figure size 1440x1224 with 12 Axes>"
            ],
            "image/png": "[encoded data removed]"
          },
          "metadata": {
            "needs_background": "light"
          }
        }
      ]
    },
    {
      "cell_type": "markdown",
      "source": [
        "1. Staf administrasi dan spesialis teknis paling banyak membuka deposit.\n",
        "2. Konsumen yang sudah menikah lebih banyak membuka deposit.\n",
        "3. Saluran komunikasi paling banyak digunakan adalah seluler.\n",
        "4. Kepemilikan rumah tidak terlalu mempengaruhi hasil marketing."
      ],
      "metadata": {
        "id": "zrp1OhMI_Dvo"
      }
    },
    {
      "metadata": {
        "_uuid": "cc46f7440c72978912db6d4b365cda66cf8b9319",
        "id": "E8q5VinWBHwf"
      },
      "cell_type": "markdown",
      "source": [
        "# Correlation"
      ]
    },
    {
      "cell_type": "code",
      "source": [
        "bank.y = bank.y.map({'no':0, 'yes':1}).astype('uint8')"
      ],
      "metadata": {
        "id": "toEthAacA7O2"
      },
      "execution_count": 30,
      "outputs": []
    },
    {
      "cell_type": "code",
      "source": [
        "corr = bank.corr()\n",
        "corr.style.background_gradient(cmap='PuBu')"
      ],
      "metadata": {
        "colab": {
          "base_uri": "https://localhost:8080/",
          "height": 363
        },
        "id": "LKfloQwjBfB0",
        "outputId": "d0d850fc-f6c5-4ab1-ce75-45ab789b1856"
      },
      "execution_count": 31,
      "outputs": [
        {
          "output_type": "execute_result",
          "data": {
            "text/plain": [
              "<pandas.io.formats.style.Styler at 0x7f87ca7b7dd0>"
            ],
            "text/html": [
              "<style type=\"text/css\">\n",
              "#T_19c27_row0_col0, #T_19c27_row1_col1, #T_19c27_row2_col2, #T_19c27_row3_col3, #T_19c27_row4_col4, #T_19c27_row5_col5, #T_19c27_row6_col6, #T_19c27_row7_col7, #T_19c27_row8_col8, #T_19c27_row9_col9 {\n",
              "  background-color: #023858;\n",
              "  color: #f1f1f1;\n",
              "}\n",
              "#T_19c27_row0_col1, #T_19c27_row3_col1 {\n",
              "  background-color: #faf2f8;\n",
              "  color: #000000;\n",
              "}\n",
              "#T_19c27_row0_col2 {\n",
              "  background-color: #f4edf6;\n",
              "  color: #000000;\n",
              "}\n",
              "#T_19c27_row0_col3, #T_19c27_row0_col6, #T_19c27_row0_col7, #T_19c27_row0_col8, #T_19c27_row3_col2, #T_19c27_row4_col1, #T_19c27_row4_col5, #T_19c27_row5_col4, #T_19c27_row6_col0, #T_19c27_row8_col9 {\n",
              "  background-color: #fff7fb;\n",
              "  color: #000000;\n",
              "}\n",
              "#T_19c27_row0_col4 {\n",
              "  background-color: #dedcec;\n",
              "  color: #000000;\n",
              "}\n",
              "#T_19c27_row0_col5 {\n",
              "  background-color: #308cbe;\n",
              "  color: #f1f1f1;\n",
              "}\n",
              "#T_19c27_row0_col9 {\n",
              "  background-color: #7dacd1;\n",
              "  color: #f1f1f1;\n",
              "}\n",
              "#T_19c27_row1_col0, #T_19c27_row2_col0 {\n",
              "  background-color: #84b0d3;\n",
              "  color: #f1f1f1;\n",
              "}\n",
              "#T_19c27_row1_col2, #T_19c27_row9_col1 {\n",
              "  background-color: #f5eff6;\n",
              "  color: #000000;\n",
              "}\n",
              "#T_19c27_row1_col3, #T_19c27_row5_col2 {\n",
              "  background-color: #f2ecf5;\n",
              "  color: #000000;\n",
              "}\n",
              "#T_19c27_row1_col4 {\n",
              "  background-color: #afc1dd;\n",
              "  color: #000000;\n",
              "}\n",
              "#T_19c27_row1_col5, #T_19c27_row2_col5 {\n",
              "  background-color: #a2bcda;\n",
              "  color: #000000;\n",
              "}\n",
              "#T_19c27_row1_col6 {\n",
              "  background-color: #86b0d3;\n",
              "  color: #000000;\n",
              "}\n",
              "#T_19c27_row1_col7 {\n",
              "  background-color: #bdc8e1;\n",
              "  color: #000000;\n",
              "}\n",
              "#T_19c27_row1_col8 {\n",
              "  background-color: #94b6d7;\n",
              "  color: #000000;\n",
              "}\n",
              "#T_19c27_row1_col9, #T_19c27_row8_col7 {\n",
              "  background-color: #c5cce3;\n",
              "  color: #000000;\n",
              "}\n",
              "#T_19c27_row2_col1, #T_19c27_row6_col1 {\n",
              "  background-color: #faf3f9;\n",
              "  color: #000000;\n",
              "}\n",
              "#T_19c27_row2_col3, #T_19c27_row4_col2, #T_19c27_row4_col9 {\n",
              "  background-color: #fcf4fa;\n",
              "  color: #000000;\n",
              "}\n",
              "#T_19c27_row2_col4 {\n",
              "  background-color: #b1c2de;\n",
              "  color: #000000;\n",
              "}\n",
              "#T_19c27_row2_col6 {\n",
              "  background-color: #8cb3d5;\n",
              "  color: #000000;\n",
              "}\n",
              "#T_19c27_row2_col7 {\n",
              "  background-color: #dcdaeb;\n",
              "  color: #000000;\n",
              "}\n",
              "#T_19c27_row2_col8, #T_19c27_row3_col0, #T_19c27_row3_col4 {\n",
              "  background-color: #9ab8d8;\n",
              "  color: #000000;\n",
              "}\n",
              "#T_19c27_row2_col9, #T_19c27_row7_col6 {\n",
              "  background-color: #569dc8;\n",
              "  color: #f1f1f1;\n",
              "}\n",
              "#T_19c27_row3_col5 {\n",
              "  background-color: #b9c6e0;\n",
              "  color: #000000;\n",
              "}\n",
              "#T_19c27_row3_col6 {\n",
              "  background-color: #62a2cb;\n",
              "  color: #f1f1f1;\n",
              "}\n",
              "#T_19c27_row3_col7 {\n",
              "  background-color: #dddbec;\n",
              "  color: #000000;\n",
              "}\n",
              "#T_19c27_row3_col8, #T_19c27_row9_col5 {\n",
              "  background-color: #6da6cd;\n",
              "  color: #f1f1f1;\n",
              "}\n",
              "#T_19c27_row3_col9 {\n",
              "  background-color: #d9d8ea;\n",
              "  color: #000000;\n",
              "}\n",
              "#T_19c27_row4_col0 {\n",
              "  background-color: #c0c9e2;\n",
              "  color: #000000;\n",
              "}\n",
              "#T_19c27_row4_col3 {\n",
              "  background-color: #eae6f1;\n",
              "  color: #000000;\n",
              "}\n",
              "#T_19c27_row4_col6, #T_19c27_row8_col4 {\n",
              "  background-color: #4094c3;\n",
              "  color: #f1f1f1;\n",
              "}\n",
              "#T_19c27_row4_col7 {\n",
              "  background-color: #ebe6f2;\n",
              "  color: #000000;\n",
              "}\n",
              "#T_19c27_row4_col8 {\n",
              "  background-color: #2f8bbe;\n",
              "  color: #f1f1f1;\n",
              "}\n",
              "#T_19c27_row5_col0 {\n",
              "  background-color: #1c7fb8;\n",
              "  color: #f1f1f1;\n",
              "}\n",
              "#T_19c27_row5_col1, #T_19c27_row8_col5 {\n",
              "  background-color: #f7f0f7;\n",
              "  color: #000000;\n",
              "}\n",
              "#T_19c27_row5_col3, #T_19c27_row8_col1 {\n",
              "  background-color: #fdf5fa;\n",
              "  color: #000000;\n",
              "}\n",
              "#T_19c27_row5_col6, #T_19c27_row6_col3 {\n",
              "  background-color: #d6d6e9;\n",
              "  color: #000000;\n",
              "}\n",
              "#T_19c27_row5_col7, #T_19c27_row9_col4 {\n",
              "  background-color: #e3e0ee;\n",
              "  color: #000000;\n",
              "}\n",
              "#T_19c27_row5_col8 {\n",
              "  background-color: #e7e3f0;\n",
              "  color: #000000;\n",
              "}\n",
              "#T_19c27_row5_col9 {\n",
              "  background-color: #8fb4d6;\n",
              "  color: #000000;\n",
              "}\n",
              "#T_19c27_row6_col2, #T_19c27_row6_col9, #T_19c27_row8_col0 {\n",
              "  background-color: #f9f2f8;\n",
              "  color: #000000;\n",
              "}\n",
              "#T_19c27_row6_col4 {\n",
              "  background-color: #60a1ca;\n",
              "  color: #f1f1f1;\n",
              "}\n",
              "#T_19c27_row6_col5 {\n",
              "  background-color: #f0eaf4;\n",
              "  color: #000000;\n",
              "}\n",
              "#T_19c27_row6_col7 {\n",
              "  background-color: #abbfdc;\n",
              "  color: #000000;\n",
              "}\n",
              "#T_19c27_row6_col8 {\n",
              "  background-color: #03466e;\n",
              "  color: #f1f1f1;\n",
              "}\n",
              "#T_19c27_row7_col0, #T_19c27_row7_col4 {\n",
              "  background-color: #bbc7e0;\n",
              "  color: #000000;\n",
              "}\n",
              "#T_19c27_row7_col1 {\n",
              "  background-color: #e5e1ef;\n",
              "  color: #000000;\n",
              "}\n",
              "#T_19c27_row7_col2 {\n",
              "  background-color: #f6eff7;\n",
              "  color: #000000;\n",
              "}\n",
              "#T_19c27_row7_col3 {\n",
              "  background-color: #f4eef6;\n",
              "  color: #000000;\n",
              "}\n",
              "#T_19c27_row7_col5 {\n",
              "  background-color: #b3c3de;\n",
              "  color: #000000;\n",
              "}\n",
              "#T_19c27_row7_col8 {\n",
              "  background-color: #78abd0;\n",
              "  color: #f1f1f1;\n",
              "}\n",
              "#T_19c27_row7_col9 {\n",
              "  background-color: #bfc9e1;\n",
              "  color: #000000;\n",
              "}\n",
              "#T_19c27_row8_col2, #T_19c27_row9_col3 {\n",
              "  background-color: #fbf4f9;\n",
              "  color: #000000;\n",
              "}\n",
              "#T_19c27_row8_col3 {\n",
              "  background-color: #d8d7e9;\n",
              "  color: #000000;\n",
              "}\n",
              "#T_19c27_row8_col6 {\n",
              "  background-color: #03456c;\n",
              "  color: #f1f1f1;\n",
              "}\n",
              "#T_19c27_row9_col0 {\n",
              "  background-color: #3b92c1;\n",
              "  color: #f1f1f1;\n",
              "}\n",
              "#T_19c27_row9_col2 {\n",
              "  background-color: #8bb2d4;\n",
              "  color: #000000;\n",
              "}\n",
              "#T_19c27_row9_col6 {\n",
              "  background-color: #c2cbe2;\n",
              "  color: #000000;\n",
              "}\n",
              "#T_19c27_row9_col7 {\n",
              "  background-color: #d1d2e6;\n",
              "  color: #000000;\n",
              "}\n",
              "#T_19c27_row9_col8 {\n",
              "  background-color: #d5d5e8;\n",
              "  color: #000000;\n",
              "}\n",
              "</style>\n",
              "<table id=\"T_19c27_\" class=\"dataframe\">\n",
              "  <thead>\n",
              "    <tr>\n",
              "      <th class=\"blank level0\" >&nbsp;</th>\n",
              "      <th class=\"col_heading level0 col0\" >id</th>\n",
              "      <th class=\"col_heading level0 col1\" >age</th>\n",
              "      <th class=\"col_heading level0 col2\" >duration</th>\n",
              "      <th class=\"col_heading level0 col3\" >campaign</th>\n",
              "      <th class=\"col_heading level0 col4\" >pdays</th>\n",
              "      <th class=\"col_heading level0 col5\" >previous</th>\n",
              "      <th class=\"col_heading level0 col6\" >emp.var.rate</th>\n",
              "      <th class=\"col_heading level0 col7\" >cons.conf.idx</th>\n",
              "      <th class=\"col_heading level0 col8\" >nr.employed</th>\n",
              "      <th class=\"col_heading level0 col9\" >y</th>\n",
              "    </tr>\n",
              "  </thead>\n",
              "  <tbody>\n",
              "    <tr>\n",
              "      <th id=\"T_19c27_level0_row0\" class=\"row_heading level0 row0\" >id</th>\n",
              "      <td id=\"T_19c27_row0_col0\" class=\"data row0 col0\" >1.000000</td>\n",
              "      <td id=\"T_19c27_row0_col1\" class=\"data row0 col1\" >0.003910</td>\n",
              "      <td id=\"T_19c27_row0_col2\" class=\"data row0 col2\" >0.008529</td>\n",
              "      <td id=\"T_19c27_row0_col3\" class=\"data row0 col3\" >-0.093589</td>\n",
              "      <td id=\"T_19c27_row0_col4\" class=\"data row0 col4\" >-0.283919</td>\n",
              "      <td id=\"T_19c27_row0_col5\" class=\"data row0 col5\" >0.427815</td>\n",
              "      <td id=\"T_19c27_row0_col6\" class=\"data row0 col6\" >-0.834661</td>\n",
              "      <td id=\"T_19c27_row0_col7\" class=\"data row0 col7\" >-0.257615</td>\n",
              "      <td id=\"T_19c27_row0_col8\" class=\"data row0 col8\" >-0.758164</td>\n",
              "      <td id=\"T_19c27_row0_col9\" class=\"data row0 col9\" >0.292728</td>\n",
              "    </tr>\n",
              "    <tr>\n",
              "      <th id=\"T_19c27_level0_row1\" class=\"row_heading level0 row1\" >age</th>\n",
              "      <td id=\"T_19c27_row1_col0\" class=\"data row1 col0\" >0.003910</td>\n",
              "      <td id=\"T_19c27_row1_col1\" class=\"data row1 col1\" >1.000000</td>\n",
              "      <td id=\"T_19c27_row1_col2\" class=\"data row1 col2\" >-0.000866</td>\n",
              "      <td id=\"T_19c27_row1_col3\" class=\"data row1 col3\" >0.004594</td>\n",
              "      <td id=\"T_19c27_row1_col4\" class=\"data row1 col4\" >-0.034369</td>\n",
              "      <td id=\"T_19c27_row1_col5\" class=\"data row1 col5\" >0.024365</td>\n",
              "      <td id=\"T_19c27_row1_col6\" class=\"data row1 col6\" >-0.000371</td>\n",
              "      <td id=\"T_19c27_row1_col7\" class=\"data row1 col7\" >0.129372</td>\n",
              "      <td id=\"T_19c27_row1_col8\" class=\"data row1 col8\" >-0.017725</td>\n",
              "      <td id=\"T_19c27_row1_col9\" class=\"data row1 col9\" >0.030399</td>\n",
              "    </tr>\n",
              "    <tr>\n",
              "      <th id=\"T_19c27_level0_row2\" class=\"row_heading level0 row2\" >duration</th>\n",
              "      <td id=\"T_19c27_row2_col0\" class=\"data row2 col0\" >0.008529</td>\n",
              "      <td id=\"T_19c27_row2_col1\" class=\"data row2 col1\" >-0.000866</td>\n",
              "      <td id=\"T_19c27_row2_col2\" class=\"data row2 col2\" >1.000000</td>\n",
              "      <td id=\"T_19c27_row2_col3\" class=\"data row2 col3\" >-0.071699</td>\n",
              "      <td id=\"T_19c27_row2_col4\" class=\"data row2 col4\" >-0.047577</td>\n",
              "      <td id=\"T_19c27_row2_col5\" class=\"data row2 col5\" >0.020640</td>\n",
              "      <td id=\"T_19c27_row2_col6\" class=\"data row2 col6\" >-0.027968</td>\n",
              "      <td id=\"T_19c27_row2_col7\" class=\"data row2 col7\" >-0.008173</td>\n",
              "      <td id=\"T_19c27_row2_col8\" class=\"data row2 col8\" >-0.044703</td>\n",
              "      <td id=\"T_19c27_row2_col9\" class=\"data row2 col9\" >0.405274</td>\n",
              "    </tr>\n",
              "    <tr>\n",
              "      <th id=\"T_19c27_level0_row3\" class=\"row_heading level0 row3\" >campaign</th>\n",
              "      <td id=\"T_19c27_row3_col0\" class=\"data row3 col0\" >-0.093589</td>\n",
              "      <td id=\"T_19c27_row3_col1\" class=\"data row3 col1\" >0.004594</td>\n",
              "      <td id=\"T_19c27_row3_col2\" class=\"data row3 col2\" >-0.071699</td>\n",
              "      <td id=\"T_19c27_row3_col3\" class=\"data row3 col3\" >1.000000</td>\n",
              "      <td id=\"T_19c27_row3_col4\" class=\"data row3 col4\" >0.052584</td>\n",
              "      <td id=\"T_19c27_row3_col5\" class=\"data row3 col5\" >-0.079141</td>\n",
              "      <td id=\"T_19c27_row3_col6\" class=\"data row3 col6\" >0.150754</td>\n",
              "      <td id=\"T_19c27_row3_col7\" class=\"data row3 col7\" >-0.013733</td>\n",
              "      <td id=\"T_19c27_row3_col8\" class=\"data row3 col8\" >0.144095</td>\n",
              "      <td id=\"T_19c27_row3_col9\" class=\"data row3 col9\" >-0.066357</td>\n",
              "    </tr>\n",
              "    <tr>\n",
              "      <th id=\"T_19c27_level0_row4\" class=\"row_heading level0 row4\" >pdays</th>\n",
              "      <td id=\"T_19c27_row4_col0\" class=\"data row4 col0\" >-0.283919</td>\n",
              "      <td id=\"T_19c27_row4_col1\" class=\"data row4 col1\" >-0.034369</td>\n",
              "      <td id=\"T_19c27_row4_col2\" class=\"data row4 col2\" >-0.047577</td>\n",
              "      <td id=\"T_19c27_row4_col3\" class=\"data row4 col3\" >0.052584</td>\n",
              "      <td id=\"T_19c27_row4_col4\" class=\"data row4 col4\" >1.000000</td>\n",
              "      <td id=\"T_19c27_row4_col5\" class=\"data row4 col5\" >-0.587514</td>\n",
              "      <td id=\"T_19c27_row4_col6\" class=\"data row4 col6\" >0.271004</td>\n",
              "      <td id=\"T_19c27_row4_col7\" class=\"data row4 col7\" >-0.091342</td>\n",
              "      <td id=\"T_19c27_row4_col8\" class=\"data row4 col8\" >0.372605</td>\n",
              "      <td id=\"T_19c27_row4_col9\" class=\"data row4 col9\" >-0.324914</td>\n",
              "    </tr>\n",
              "    <tr>\n",
              "      <th id=\"T_19c27_level0_row5\" class=\"row_heading level0 row5\" >previous</th>\n",
              "      <td id=\"T_19c27_row5_col0\" class=\"data row5 col0\" >0.427815</td>\n",
              "      <td id=\"T_19c27_row5_col1\" class=\"data row5 col1\" >0.024365</td>\n",
              "      <td id=\"T_19c27_row5_col2\" class=\"data row5 col2\" >0.020640</td>\n",
              "      <td id=\"T_19c27_row5_col3\" class=\"data row5 col3\" >-0.079141</td>\n",
              "      <td id=\"T_19c27_row5_col4\" class=\"data row5 col4\" >-0.587514</td>\n",
              "      <td id=\"T_19c27_row5_col5\" class=\"data row5 col5\" >1.000000</td>\n",
              "      <td id=\"T_19c27_row5_col6\" class=\"data row5 col6\" >-0.420489</td>\n",
              "      <td id=\"T_19c27_row5_col7\" class=\"data row5 col7\" >-0.050936</td>\n",
              "      <td id=\"T_19c27_row5_col8\" class=\"data row5 col8\" >-0.501333</td>\n",
              "      <td id=\"T_19c27_row5_col9\" class=\"data row5 col9\" >0.230181</td>\n",
              "    </tr>\n",
              "    <tr>\n",
              "      <th id=\"T_19c27_level0_row6\" class=\"row_heading level0 row6\" >emp.var.rate</th>\n",
              "      <td id=\"T_19c27_row6_col0\" class=\"data row6 col0\" >-0.834661</td>\n",
              "      <td id=\"T_19c27_row6_col1\" class=\"data row6 col1\" >-0.000371</td>\n",
              "      <td id=\"T_19c27_row6_col2\" class=\"data row6 col2\" >-0.027968</td>\n",
              "      <td id=\"T_19c27_row6_col3\" class=\"data row6 col3\" >0.150754</td>\n",
              "      <td id=\"T_19c27_row6_col4\" class=\"data row6 col4\" >0.271004</td>\n",
              "      <td id=\"T_19c27_row6_col5\" class=\"data row6 col5\" >-0.420489</td>\n",
              "      <td id=\"T_19c27_row6_col6\" class=\"data row6 col6\" >1.000000</td>\n",
              "      <td id=\"T_19c27_row6_col7\" class=\"data row6 col7\" >0.196041</td>\n",
              "      <td id=\"T_19c27_row6_col8\" class=\"data row6 col8\" >0.906970</td>\n",
              "      <td id=\"T_19c27_row6_col9\" class=\"data row6 col9\" >-0.298334</td>\n",
              "    </tr>\n",
              "    <tr>\n",
              "      <th id=\"T_19c27_level0_row7\" class=\"row_heading level0 row7\" >cons.conf.idx</th>\n",
              "      <td id=\"T_19c27_row7_col0\" class=\"data row7 col0\" >-0.257615</td>\n",
              "      <td id=\"T_19c27_row7_col1\" class=\"data row7 col1\" >0.129372</td>\n",
              "      <td id=\"T_19c27_row7_col2\" class=\"data row7 col2\" >-0.008173</td>\n",
              "      <td id=\"T_19c27_row7_col3\" class=\"data row7 col3\" >-0.013733</td>\n",
              "      <td id=\"T_19c27_row7_col4\" class=\"data row7 col4\" >-0.091342</td>\n",
              "      <td id=\"T_19c27_row7_col5\" class=\"data row7 col5\" >-0.050936</td>\n",
              "      <td id=\"T_19c27_row7_col6\" class=\"data row7 col6\" >0.196041</td>\n",
              "      <td id=\"T_19c27_row7_col7\" class=\"data row7 col7\" >1.000000</td>\n",
              "      <td id=\"T_19c27_row7_col8\" class=\"data row7 col8\" >0.100513</td>\n",
              "      <td id=\"T_19c27_row7_col9\" class=\"data row7 col9\" >0.054878</td>\n",
              "    </tr>\n",
              "    <tr>\n",
              "      <th id=\"T_19c27_level0_row8\" class=\"row_heading level0 row8\" >nr.employed</th>\n",
              "      <td id=\"T_19c27_row8_col0\" class=\"data row8 col0\" >-0.758164</td>\n",
              "      <td id=\"T_19c27_row8_col1\" class=\"data row8 col1\" >-0.017725</td>\n",
              "      <td id=\"T_19c27_row8_col2\" class=\"data row8 col2\" >-0.044703</td>\n",
              "      <td id=\"T_19c27_row8_col3\" class=\"data row8 col3\" >0.144095</td>\n",
              "      <td id=\"T_19c27_row8_col4\" class=\"data row8 col4\" >0.372605</td>\n",
              "      <td id=\"T_19c27_row8_col5\" class=\"data row8 col5\" >-0.501333</td>\n",
              "      <td id=\"T_19c27_row8_col6\" class=\"data row8 col6\" >0.906970</td>\n",
              "      <td id=\"T_19c27_row8_col7\" class=\"data row8 col7\" >0.100513</td>\n",
              "      <td id=\"T_19c27_row8_col8\" class=\"data row8 col8\" >1.000000</td>\n",
              "      <td id=\"T_19c27_row8_col9\" class=\"data row8 col9\" >-0.354678</td>\n",
              "    </tr>\n",
              "    <tr>\n",
              "      <th id=\"T_19c27_level0_row9\" class=\"row_heading level0 row9\" >y</th>\n",
              "      <td id=\"T_19c27_row9_col0\" class=\"data row9 col0\" >0.292728</td>\n",
              "      <td id=\"T_19c27_row9_col1\" class=\"data row9 col1\" >0.030399</td>\n",
              "      <td id=\"T_19c27_row9_col2\" class=\"data row9 col2\" >0.405274</td>\n",
              "      <td id=\"T_19c27_row9_col3\" class=\"data row9 col3\" >-0.066357</td>\n",
              "      <td id=\"T_19c27_row9_col4\" class=\"data row9 col4\" >-0.324914</td>\n",
              "      <td id=\"T_19c27_row9_col5\" class=\"data row9 col5\" >0.230181</td>\n",
              "      <td id=\"T_19c27_row9_col6\" class=\"data row9 col6\" >-0.298334</td>\n",
              "      <td id=\"T_19c27_row9_col7\" class=\"data row9 col7\" >0.054878</td>\n",
              "      <td id=\"T_19c27_row9_col8\" class=\"data row9 col8\" >-0.354678</td>\n",
              "      <td id=\"T_19c27_row9_col9\" class=\"data row9 col9\" >1.000000</td>\n",
              "    </tr>\n",
              "  </tbody>\n",
              "</table>\n"
            ]
          },
          "metadata": {},
          "execution_count": 31
        }
      ]
    },
    {
      "cell_type": "markdown",
      "metadata": {
        "id": "DTCS1A6Mr6IR"
      },
      "source": [
        "Fitur yang berkorelasi paling tinggi dengan target adalah durasi panggilan."
      ]
    },
    {
      "cell_type": "code",
      "source": [],
      "metadata": {
        "id": "OAiGDNiuCDXa"
      },
      "execution_count": 31,
      "outputs": []
    }
  ],
  "metadata": {
    "kernelspec": {
      "name": "python3",
      "display_name": "Python 3",
      "language": "python"
    },
    "language_info": {
      "name": "python",
      "version": "3.6.4",
      "mimetype": "text/x-python",
      "codemirror_mode": {
        "name": "ipython",
        "version": 3
      },
      "pygments_lexer": "ipython3",
      "nbconvert_exporter": "python",
      "file_extension": ".py"
    },
    "colab": {
      "provenance": [],
      "collapsed_sections": [
        "_TWCVrDbxsq6",
        "1aELxqeNxsq8",
        "vgpBMs2Txsq8",
        "0UazkTVGxsrC",
        "RmDmAVCTxsrO",
        "Ym19rk6ExsrR",
        "qAqt46r4xsrR"
      ]
    }
  },
  "nbformat": 4,
  "nbformat_minor": 0
}